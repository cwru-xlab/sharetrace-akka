{
 "cells": [
  {
   "cell_type": "code",
   "execution_count": 60,
   "id": "7f3ab99b-c7b0-4e92-8a06-ac00d944dd20",
   "metadata": {
    "tags": []
   },
   "outputs": [],
   "source": [
    "import hvplot.polars\n",
    "import matplotlib.pyplot as plt\n",
    "import numpy as np\n",
    "import polars as pl\n",
    "import seaborn as sns\n",
    "import statsmodels.stats.api as sm\n",
    "\n",
    "from scipy import stats"
   ]
  },
  {
   "cell_type": "code",
   "execution_count": 24,
   "id": "6d6bfa48-f204-4e34-aacd-854955cd78d2",
   "metadata": {
    "tags": []
   },
   "outputs": [],
   "source": [
    "def load_dataset(kind: str) -> pl.LazyFrame:\n",
    "    return pl.scan_parquet(f'./data/{kind}/experiment.parquet')\n",
    "\n",
    "def get_network_types(df: pl.LazyFrame) -> pl.DataFrame:\n",
    "    return df.collect().get_column('network_type').unique()"
   ]
  },
  {
   "cell_type": "markdown",
   "id": "bbe5515a-2c0d-4a69-9e56-a0156a15f306",
   "metadata": {
    "tags": []
   },
   "source": [
    "## Runtime basline experiment"
   ]
  },
  {
   "cell_type": "markdown",
   "id": "100e2250-b0c1-4c67-8831-92fbf87bc0a0",
   "metadata": {},
   "source": [
    "**Objective**: Determine if the runtime across distribution types is the same.\n",
    "\n",
    "We cannot use ANOVA because the samples are not normally distributed.\n",
    "\n",
    "https://www.pythonfordatascience.org/parametric-assumptions-python\n",
    "\n",
    "https://docs.scipy.org/doc/scipy/reference/generated/scipy.stats.f_oneway.html#scipy.stats.f_oneway\n",
    "\n",
    "https://docs.scipy.org/doc/scipy/reference/generated/scipy.stats.shapiro.html#scipy.stats.shapiro"
   ]
  },
  {
   "cell_type": "code",
   "execution_count": 15,
   "id": "e90fab26-063a-4d1d-a2e8-509aa3b10769",
   "metadata": {
    "tags": []
   },
   "outputs": [],
   "source": [
    "def get_runtimes(df, network_type, as_numpy=False):\n",
    "    samples = (\n",
    "        df\n",
    "        .filter(pl.col.key != '1')\n",
    "        .filter(pl.col.network_type == network_type)\n",
    "        .group_by(['ct_random_type', 'sv_random_type', 'st_random_type'])\n",
    "        .agg(pl.col.msg_runtime)\n",
    "        .collect()\n",
    "        .get_column('msg_runtime')\n",
    "        .to_list()\n",
    "    )\n",
    "    return np.array(samples) if as_numpy else samples"
   ]
  },
  {
   "cell_type": "code",
   "execution_count": 25,
   "id": "222517a3-8d8c-4708-9ecd-2ee204608890",
   "metadata": {
    "tags": []
   },
   "outputs": [],
   "source": [
    "df = load_dataset('runtime-baseline')\n",
    "network_types = get_network_types(df)"
   ]
  },
  {
   "cell_type": "code",
   "execution_count": 17,
   "id": "9bc20f5c-b314-4658-b1c0-c57b351f6d50",
   "metadata": {
    "tags": []
   },
   "outputs": [
    {
     "name": "stdout",
     "output_type": "stream",
     "text": [
      "RandomRegular \t ShapiroResult(statistic=0.31384527727963507, pvalue=1.1721280890703945e-16)\n",
      "BarabasiAlbert \t ShapiroResult(statistic=0.8246320735534654, pvalue=8.402036681101393e-08)\n",
      "WattsStrogatz \t ShapiroResult(statistic=0.905059682305744, pvalue=4.909102938770769e-05)\n",
      "GnmRandom \t ShapiroResult(statistic=0.46285027473053075, pvalue=8.615878127358096e-15)\n"
     ]
    }
   ],
   "source": [
    "for network_type in network_types:\n",
    "    data = get_runtimes(df, network_type, as_numpy=True).flatten()\n",
    "    print(network_type, '\\t', stats.shapiro(data))"
   ]
  },
  {
   "cell_type": "markdown",
   "id": "4ad18445-03fa-4afd-a479-666500fdb041",
   "metadata": {},
   "source": [
    "We can use the nonparametric test instead to compare the medians across samples.\n",
    "\n",
    "https://docs.scipy.org/doc/scipy/reference/generated/scipy.stats.kruskal.html#scipy.stats.kruskal"
   ]
  },
  {
   "cell_type": "code",
   "execution_count": 18,
   "id": "3db57bbc-741d-49f4-8c3d-27e2d43b68de",
   "metadata": {
    "tags": []
   },
   "outputs": [
    {
     "name": "stdout",
     "output_type": "stream",
     "text": [
      "RandomRegular \t KruskalResult(statistic=6.744449984184931, pvalue=0.45596385748786317)\n",
      "BarabasiAlbert \t KruskalResult(statistic=8.056005933551374, pvalue=0.32768128702517296)\n",
      "WattsStrogatz \t KruskalResult(statistic=5.17628242929798, pvalue=0.6384603989978268)\n",
      "GnmRandom \t KruskalResult(statistic=10.159023455857016, pvalue=0.1797394478879054)\n"
     ]
    }
   ],
   "source": [
    "for network_type in network_types:\n",
    "    samples = get_runtimes(df, network_type)\n",
    "    print(network_type, '\\t', stats.kruskal(*samples))"
   ]
  },
  {
   "cell_type": "markdown",
   "id": "2a4c0adb-8cdf-40da-b23b-3ca2cbcbc773",
   "metadata": {},
   "source": [
    "## Parameter experiment"
   ]
  },
  {
   "cell_type": "code",
   "execution_count": 113,
   "id": "9b7fdaf0-d33a-43da-bc84-b39282988964",
   "metadata": {
    "tags": []
   },
   "outputs": [],
   "source": [
    "df = load_dataset('parameter')\n",
    "network_types = get_network_types(df)"
   ]
  },
  {
   "cell_type": "code",
   "execution_count": 114,
   "id": "235cb595-b776-4ad7-a42c-e0bdbd35fb04",
   "metadata": {
    "tags": []
   },
   "outputs": [
    {
     "data": {
      "text/html": [
       "<div><style>\n",
       ".dataframe > thead > tr,\n",
       ".dataframe > tbody > tr {\n",
       "  text-align: right;\n",
       "  white-space: pre-wrap;\n",
       "}\n",
       "</style>\n",
       "<small>shape: (1, 21)</small><table border=\"1\" class=\"dataframe\"><thead><tr><th>id</th><th>key</th><th>network_id</th><th>network_type</th><th>nodes</th><th>edges</th><th>ct_random_type</th><th>sv_random_type</th><th>st_random_type</th><th>transmission_rate</th><th>send_coefficient</th><th>n_influenced</th><th>n_influences</th><th>msg_reachability</th><th>msg_runtime</th><th>total_runtime</th><th>exposure_diffs</th><th>exposure_scores</th><th>n_receives</th><th>n_updates</th><th>n_contacts</th></tr><tr><td>str</td><td>str</td><td>str</td><td>str</td><td>i64</td><td>i64</td><td>str</td><td>str</td><td>str</td><td>f64</td><td>f64</td><td>list[i64]</td><td>list[i64]</td><td>list[i64]</td><td>i64</td><td>i64</td><td>list[f64]</td><td>list[f64]</td><td>list[i64]</td><td>list[i64]</td><td>list[i64]</td></tr></thead><tbody><tr><td>&quot;1714888805622&quot;</td><td>&quot;1&quot;</td><td>&quot;1714888811775&quot;</td><td>&quot;RandomRegular&quot;</td><td>5000</td><td>50000</td><td>&quot;Uniform&quot;</td><td>&quot;Uniform&quot;</td><td>&quot;Uniform&quot;</td><td>0.8</td><td>0.8</td><td>[5, 0, … 22]</td><td>[37, 38, … 44]</td><td>[1, 0, … 4]</td><td>21507</td><td>67019</td><td>[0.16572, 0.70054, … 0.0]</td><td>[0.687609, 0.769085, … 0.996443]</td><td>[77, 76, … 83]</td><td>[4, 2, … 1]</td><td>[20, 20, … 20]</td></tr></tbody></table></div>"
      ],
      "text/plain": [
       "shape: (1, 21)\n",
       "┌────────────┬─────┬────────────┬────────────┬───┬────────────┬────────────┬───────────┬───────────┐\n",
       "│ id         ┆ key ┆ network_id ┆ network_ty ┆ … ┆ exposure_s ┆ n_receives ┆ n_updates ┆ n_contact │\n",
       "│ ---        ┆ --- ┆ ---        ┆ pe         ┆   ┆ cores      ┆ ---        ┆ ---       ┆ s         │\n",
       "│ str        ┆ str ┆ str        ┆ ---        ┆   ┆ ---        ┆ list[i64]  ┆ list[i64] ┆ ---       │\n",
       "│            ┆     ┆            ┆ str        ┆   ┆ list[f64]  ┆            ┆           ┆ list[i64] │\n",
       "╞════════════╪═════╪════════════╪════════════╪═══╪════════════╪════════════╪═══════════╪═══════════╡\n",
       "│ 1714888805 ┆ 1   ┆ 1714888811 ┆ RandomRegu ┆ … ┆ [0.687609, ┆ [77, 76, … ┆ [4, 2, …  ┆ [20, 20,  │\n",
       "│ 622        ┆     ┆ 775        ┆ lar        ┆   ┆ 0.769085,  ┆ 83]        ┆ 1]        ┆ … 20]     │\n",
       "│            ┆     ┆            ┆            ┆   ┆ … 0.99644… ┆            ┆           ┆           │\n",
       "└────────────┴─────┴────────────┴────────────┴───┴────────────┴────────────┴───────────┴───────────┘"
      ]
     },
     "execution_count": 114,
     "metadata": {},
     "output_type": "execute_result"
    }
   ],
   "source": [
    "df.head(1).collect()"
   ]
  },
  {
   "cell_type": "code",
   "execution_count": 112,
   "id": "eb647aca-a99f-4c61-b5a2-2a82676cb96c",
   "metadata": {
    "tags": []
   },
   "outputs": [
    {
     "data": {
      "text/html": [
       "<div><style>\n",
       ".dataframe > thead > tr,\n",
       ".dataframe > tbody > tr {\n",
       "  text-align: right;\n",
       "  white-space: pre-wrap;\n",
       "}\n",
       "</style>\n",
       "<small>shape: (9, 3)</small><table border=\"1\" class=\"dataframe\"><thead><tr><th>network_type</th><th>send_coefficient</th><th>exposure_scores</th></tr><tr><td>str</td><td>f64</td><td>f64</td></tr></thead><tbody><tr><td>&quot;RandomRegular&quot;</td><td>0.8</td><td>0.77021</td></tr><tr><td>&quot;RandomRegular&quot;</td><td>0.9</td><td>0.772429</td></tr><tr><td>&quot;RandomRegular&quot;</td><td>1.0</td><td>0.772429</td></tr><tr><td>&quot;RandomRegular&quot;</td><td>1.1</td><td>0.772429</td></tr><tr><td>&quot;RandomRegular&quot;</td><td>1.2</td><td>0.772429</td></tr><tr><td>&quot;RandomRegular&quot;</td><td>1.3</td><td>0.772429</td></tr><tr><td>&quot;RandomRegular&quot;</td><td>1.4</td><td>0.772429</td></tr><tr><td>&quot;RandomRegular&quot;</td><td>1.5</td><td>0.772429</td></tr><tr><td>&quot;RandomRegular&quot;</td><td>1.6</td><td>0.772429</td></tr></tbody></table></div>"
      ],
      "text/plain": [
       "shape: (9, 3)\n",
       "┌───────────────┬──────────────────┬─────────────────┐\n",
       "│ network_type  ┆ send_coefficient ┆ exposure_scores │\n",
       "│ ---           ┆ ---              ┆ ---             │\n",
       "│ str           ┆ f64              ┆ f64             │\n",
       "╞═══════════════╪══════════════════╪═════════════════╡\n",
       "│ RandomRegular ┆ 0.8              ┆ 0.77021         │\n",
       "│ RandomRegular ┆ 0.9              ┆ 0.772429        │\n",
       "│ RandomRegular ┆ 1.0              ┆ 0.772429        │\n",
       "│ RandomRegular ┆ 1.1              ┆ 0.772429        │\n",
       "│ RandomRegular ┆ 1.2              ┆ 0.772429        │\n",
       "│ RandomRegular ┆ 1.3              ┆ 0.772429        │\n",
       "│ RandomRegular ┆ 1.4              ┆ 0.772429        │\n",
       "│ RandomRegular ┆ 1.5              ┆ 0.772429        │\n",
       "│ RandomRegular ┆ 1.6              ┆ 0.772429        │\n",
       "└───────────────┴──────────────────┴─────────────────┘"
      ]
     },
     "execution_count": 112,
     "metadata": {},
     "output_type": "execute_result"
    }
   ],
   "source": [
    "(\n",
    "    df\n",
    "    # .group_by(['network_type', 'ct_random_type', 'st_random_type', 'sv_random_type', 'send_coefficient'], maintain_order=True)\n",
    "    .group_by(['network_type', 'send_coefficient'], maintain_order=True)\n",
    "    .agg(pl.col.exposure_scores.flatten().quantile(0.5))\n",
    "    .filter(pl.col.network_type == 'RandomRegular')\n",
    "    # .filter(pl.col.ct_random_type == 'Uniform')\n",
    "    # .filter(pl.col.sv_random_type == 'Uniform')\n",
    "    # .filter(pl.col.st_random_type == 'Uniform')\n",
    "    .collect()\n",
    ")"
   ]
  },
  {
   "cell_type": "code",
   "execution_count": null,
   "id": "700b970c-98e9-44cd-9f6e-b329bc3320a5",
   "metadata": {},
   "outputs": [],
   "source": []
  }
 ],
 "metadata": {
  "kernelspec": {
   "display_name": "Python 3 (ipykernel)",
   "language": "python",
   "name": "python3"
  },
  "language_info": {
   "codemirror_mode": {
    "name": "ipython",
    "version": 3
   },
   "file_extension": ".py",
   "mimetype": "text/x-python",
   "name": "python",
   "nbconvert_exporter": "python",
   "pygments_lexer": "ipython3",
   "version": "3.11.2"
  }
 },
 "nbformat": 4,
 "nbformat_minor": 5
}
