{
 "cells": [
  {
   "cell_type": "code",
   "execution_count": 1,
   "id": "7f3ab99b-c7b0-4e92-8a06-ac00d944dd20",
   "metadata": {
    "tags": []
   },
   "outputs": [],
   "source": [
    "from lib import *\n",
    "\n",
    "import pymongo"
   ]
  },
  {
   "cell_type": "code",
   "execution_count": 3,
   "id": "cffaae83-faa4-40f4-9998-798ae3d135f6",
   "metadata": {
    "tags": []
   },
   "outputs": [
    {
     "data": {
      "text/plain": [
       "True"
      ]
     },
     "execution_count": 3,
     "metadata": {},
     "output_type": "execute_result"
    }
   ],
   "source": [
    "client = pymongo.MongoClient()\n",
    "df = get_runtime_results(client.experiments.runtimeBaseline, group_by_randoms=False)\n",
    "all_confidence_intervals_overlap(df)"
   ]
  },
  {
   "cell_type": "code",
   "execution_count": 5,
   "id": "1a8cd861-5348-479b-9c77-19a022c66e5a",
   "metadata": {
    "tags": []
   },
   "outputs": [
    {
     "data": {
      "text/html": [
       "<div><style>\n",
       ".dataframe > thead > tr,\n",
       ".dataframe > tbody > tr {\n",
       "  text-align: right;\n",
       "  white-space: pre-wrap;\n",
       "}\n",
       "</style>\n",
       "<small>shape: (4, 5)</small><table border=\"1\" class=\"dataframe\"><thead><tr><th>avgRuntime</th><th>seRuntime</th><th>upperRuntimeCi</th><th>lowerRuntimeCi</th><th>networkType</th></tr><tr><td>f64</td><td>f64</td><td>f64</td><td>f64</td><td>str</td></tr></thead><tbody><tr><td>9174.825</td><td>14.334147</td><td>9189.159147</td><td>9160.490853</td><td>&quot;BarabasiAlbert&quot;</td></tr><tr><td>9252.2</td><td>13.189349</td><td>9265.389349</td><td>9239.010651</td><td>&quot;WattsStrogatz&quot;</td></tr><tr><td>9069.7</td><td>120.576074</td><td>9190.276074</td><td>8949.123926</td><td>&quot;GnmRandom&quot;</td></tr><tr><td>9121.2375</td><td>93.512683</td><td>9214.750183</td><td>9027.724817</td><td>&quot;RandomRegular&quot;</td></tr></tbody></table></div>"
      ],
      "text/plain": [
       "shape: (4, 5)\n",
       "┌────────────┬────────────┬────────────────┬────────────────┬────────────────┐\n",
       "│ avgRuntime ┆ seRuntime  ┆ upperRuntimeCi ┆ lowerRuntimeCi ┆ networkType    │\n",
       "│ ---        ┆ ---        ┆ ---            ┆ ---            ┆ ---            │\n",
       "│ f64        ┆ f64        ┆ f64            ┆ f64            ┆ str            │\n",
       "╞════════════╪════════════╪════════════════╪════════════════╪════════════════╡\n",
       "│ 9174.825   ┆ 14.334147  ┆ 9189.159147    ┆ 9160.490853    ┆ BarabasiAlbert │\n",
       "│ 9252.2     ┆ 13.189349  ┆ 9265.389349    ┆ 9239.010651    ┆ WattsStrogatz  │\n",
       "│ 9069.7     ┆ 120.576074 ┆ 9190.276074    ┆ 8949.123926    ┆ GnmRandom      │\n",
       "│ 9121.2375  ┆ 93.512683  ┆ 9214.750183    ┆ 9027.724817    ┆ RandomRegular  │\n",
       "└────────────┴────────────┴────────────────┴────────────────┴────────────────┘"
      ]
     },
     "execution_count": 5,
     "metadata": {},
     "output_type": "execute_result"
    }
   ],
   "source": [
    "df"
   ]
  },
  {
   "cell_type": "code",
   "execution_count": 7,
   "id": "62114be3-aa5d-423e-a2a0-51965217aa2b",
   "metadata": {
    "tags": []
   },
   "outputs": [],
   "source": [
    "rate = 9121.2375 / 1e3 / 1e6"
   ]
  },
  {
   "cell_type": "code",
   "execution_count": 9,
   "id": "a7cc797a-de91-483d-98d0-4b7550770674",
   "metadata": {
    "tags": []
   },
   "outputs": [
    {
     "data": {
      "text/plain": [
       "0.001526051885764116"
      ]
     },
     "execution_count": 9,
     "metadata": {},
     "output_type": "execute_result"
    }
   ],
   "source": [
    "14 / 9174"
   ]
  },
  {
   "cell_type": "code",
   "execution_count": null,
   "id": "8b24b278-7a6f-4fae-affc-1334602f02ee",
   "metadata": {},
   "outputs": [],
   "source": []
  }
 ],
 "metadata": {
  "kernelspec": {
   "display_name": "Python 3 (ipykernel)",
   "language": "python",
   "name": "python3"
  },
  "language_info": {
   "codemirror_mode": {
    "name": "ipython",
    "version": 3
   },
   "file_extension": ".py",
   "mimetype": "text/x-python",
   "name": "python",
   "nbconvert_exporter": "python",
   "pygments_lexer": "ipython3",
   "version": "3.11.2"
  }
 },
 "nbformat": 4,
 "nbformat_minor": 5
}
