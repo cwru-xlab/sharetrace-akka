{
 "cells": [
  {
   "cell_type": "code",
   "execution_count": 112,
   "id": "7f3ab99b-c7b0-4e92-8a06-ac00d944dd20",
   "metadata": {
    "tags": []
   },
   "outputs": [],
   "source": [
    "import numpy as np\n",
    "import polars as pl\n",
    "from scipy import stats\n",
    "import seaborn as sns\n",
    "import matplotlib.pyplot as plt\n",
    "import statsmodels.stats.api as sm"
   ]
  },
  {
   "cell_type": "markdown",
   "id": "bbe5515a-2c0d-4a69-9e56-a0156a15f306",
   "metadata": {},
   "source": [
    "## Runtime basline experiment"
   ]
  },
  {
   "cell_type": "markdown",
   "id": "100e2250-b0c1-4c67-8831-92fbf87bc0a0",
   "metadata": {},
   "source": [
    "**Objective**: Determine if the runtime across distribution types is the same.\n",
    "\n",
    "We cannot use ANOVA because the samples are not normally distributed.\n",
    "\n",
    "https://www.pythonfordatascience.org/parametric-assumptions-python\n",
    "\n",
    "https://docs.scipy.org/doc/scipy/reference/generated/scipy.stats.f_oneway.html#scipy.stats.f_oneway\n",
    "\n",
    "https://docs.scipy.org/doc/scipy/reference/generated/scipy.stats.shapiro.html#scipy.stats.shapiro"
   ]
  },
  {
   "cell_type": "code",
   "execution_count": 99,
   "id": "e90fab26-063a-4d1d-a2e8-509aa3b10769",
   "metadata": {
    "tags": []
   },
   "outputs": [],
   "source": [
    "def get_runtimes(df, net_type, as_numpy=False):\n",
    "    samples = (\n",
    "        df\n",
    "        .filter(pl.col.key != '1')\n",
    "        .filter(pl.col.net_type == net_type)\n",
    "        .group_by(['ctr_type', 'svr_type', 'str_type'])\n",
    "        .agg(pl.col.mp_runtime)\n",
    "        .collect()\n",
    "        .get_column('mp_runtime')\n",
    "        .to_list()\n",
    "    )\n",
    "    return np.array(samples) if as_numpy else samples"
   ]
  },
  {
   "cell_type": "code",
   "execution_count": 3,
   "id": "222517a3-8d8c-4708-9ecd-2ee204608890",
   "metadata": {
    "tags": []
   },
   "outputs": [],
   "source": [
    "df = pl.scan_parquet('./data/runtime-baseline/dataset.parquet')\n",
    "net_types = df.collect().get_column('net_type').unique()"
   ]
  },
  {
   "cell_type": "code",
   "execution_count": 100,
   "id": "9bc20f5c-b314-4658-b1c0-c57b351f6d50",
   "metadata": {
    "tags": []
   },
   "outputs": [
    {
     "name": "stdout",
     "output_type": "stream",
     "text": [
      "RandomRegular \t ShapiroResult(statistic=0.31384527727963496, pvalue=1.1721280890703945e-16)\n",
      "GnmRandom \t ShapiroResult(statistic=0.46285027473053053, pvalue=8.615878127357973e-15)\n",
      "BarabasiAlbert \t ShapiroResult(statistic=0.8246320735534654, pvalue=8.402036681101393e-08)\n",
      "WattsStrogatz \t ShapiroResult(statistic=0.905059682305744, pvalue=4.909102938770769e-05)\n"
     ]
    }
   ],
   "source": [
    "for net_type in net_types:\n",
    "    data = get_runtimes(df, net_type, as_numpy=True).flatten()\n",
    "    print(net_type, '\\t', stats.shapiro(data))"
   ]
  },
  {
   "cell_type": "markdown",
   "id": "4ad18445-03fa-4afd-a479-666500fdb041",
   "metadata": {},
   "source": [
    "We can use the nonparametric test instead to compare the medians across samples.\n",
    "\n",
    "https://docs.scipy.org/doc/scipy/reference/generated/scipy.stats.kruskal.html#scipy.stats.kruskal"
   ]
  },
  {
   "cell_type": "code",
   "execution_count": 101,
   "id": "3db57bbc-741d-49f4-8c3d-27e2d43b68de",
   "metadata": {
    "tags": []
   },
   "outputs": [
    {
     "name": "stdout",
     "output_type": "stream",
     "text": [
      "RandomRegular \t KruskalResult(statistic=6.744449984184931, pvalue=0.45596385748786317)\n",
      "GnmRandom \t KruskalResult(statistic=10.159023455856987, pvalue=0.1797394478879069)\n",
      "BarabasiAlbert \t KruskalResult(statistic=8.056005933551345, pvalue=0.32768128702517546)\n",
      "WattsStrogatz \t KruskalResult(statistic=5.176282429297923, pvalue=0.6384603989978338)\n"
     ]
    }
   ],
   "source": [
    "for net_type in net_types:\n",
    "    samples = get_runtimes(df, net_type)\n",
    "    print(net_type, '\\t', stats.kruskal(*samples))"
   ]
  }
 ],
 "metadata": {
  "kernelspec": {
   "display_name": "Python 3 (ipykernel)",
   "language": "python",
   "name": "python3"
  },
  "language_info": {
   "codemirror_mode": {
    "name": "ipython",
    "version": 3
   },
   "file_extension": ".py",
   "mimetype": "text/x-python",
   "name": "python",
   "nbconvert_exporter": "python",
   "pygments_lexer": "ipython3",
   "version": "3.11.2"
  }
 },
 "nbformat": 4,
 "nbformat_minor": 5
}
